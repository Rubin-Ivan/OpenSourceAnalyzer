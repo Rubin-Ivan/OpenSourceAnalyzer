{
 "cells": [
  {
   "cell_type": "code",
   "execution_count": 5,
   "id": "bed5fe3e-5ae7-4919-8cda-9d4375ac801f",
   "metadata": {},
   "outputs": [],
   "source": [
    "from GitHubRepositoryAnalyzer import GitHubRepositoryAnalyzer"
   ]
  },
  {
   "cell_type": "code",
   "execution_count": 6,
   "id": "82b5c6cd-3a85-486d-b592-d89d2f40bec4",
   "metadata": {},
   "outputs": [
    {
     "name": "stdout",
     "output_type": "stream",
     "text": [
      "Результаты анализа репозитория:\n",
      "{'Basic Info Present': 3, 'License Present': 1, 'Not Brand New': 1, 'Stars': 3, 'Contributors': 1, 'Subscribers': 0, 'Readme Present': 1, 'Has Multiple Versions': 1, 'Has 1.0.0 Version or Greater': 0, 'Recent Release Last Six Months': 1, 'Recently Pushed Last Six Months': 1, 'Test Folder': 1, 'Tutorials Folder': 1, 'Community Score': 3}\n",
      "Общий счёт: 18\n",
      "Счёт SourceRank: 13\n"
     ]
    }
   ],
   "source": [
    "analyzer = GitHubRepositoryAnalyzer(\"aimclub\", \"fedot\")\n",
    "\n",
    "# Вызываем метод analyze_repository для получения результатов анализа\n",
    "results, total_score, total_score_sourcerank = analyzer.analyze_repository()\n",
    "\n",
    "# Далее вы можете использовать полученные результаты как вам необходимо\n",
    "print(\"Результаты анализа репозитория:\")\n",
    "print(results)\n",
    "print(\"Общий счёт:\", total_score)\n",
    "print(\"Счёт SourceRank:\", total_score_sourcerank)"
   ]
  },
  {
   "cell_type": "code",
   "execution_count": 7,
   "id": "841296ec-ab75-49a8-a821-4fdc09b87b4c",
   "metadata": {},
   "outputs": [],
   "source": [
    "from GitLabRepositoryAnalyzer import GitLabRepositoryAnalyzer"
   ]
  },
  {
   "cell_type": "code",
   "execution_count": 8,
   "id": "51a1748a-0449-4d2b-83c3-c716284e7ce4",
   "metadata": {},
   "outputs": [
    {
     "name": "stdout",
     "output_type": "stream",
     "text": [
      "{'Basic Info Present': 3, 'License Present': 1, 'Not Brand New': 1, 'Stars': 3, 'Contributors': 1, 'Readme Present': 1, 'Has Multiple Versions': 0, 'Has 1.0.0 Version or Greater': 1, 'Recent Release Last Six Months': 0, 'Recently Pushed Last Six Months': 1, 'Test Folder': 0, 'Tutorials Folder': 0, 'Community Score': 1}\n",
      "Результаты анализа: {'Basic Info Present': 3, 'License Present': 1, 'Not Brand New': 1, 'Stars': 3, 'Contributors': 1, 'Readme Present': 1, 'Has Multiple Versions': 0, 'Has 1.0.0 Version or Greater': 1, 'Recent Release Last Six Months': 0, 'Recently Pushed Last Six Months': 1, 'Test Folder': 0, 'Tutorials Folder': 0, 'Community Score': 1}\n",
      "Общий счет: 13\n",
      "Счет Sourcerank: 12\n"
     ]
    }
   ],
   "source": [
    "repo_id = 36189\n",
    "repo_path = \"fdroid/fdroidclient\"\n",
    "analyzer = GitLabRepositoryAnalyzer(repo_id, repo_path)\n",
    "results, total_score, total_score_sourcerank = analyzer.analyze_repository()\n",
    "\n",
    "print(\"Результаты анализа:\", results)\n",
    "print(\"Общий счет:\", total_score)\n",
    "print(\"Счет Sourcerank:\", total_score_sourcerank)"
   ]
  },
  {
   "cell_type": "code",
   "execution_count": null,
   "id": "dbfec70d-ff78-49c3-85d4-58045d6c1cdb",
   "metadata": {},
   "outputs": [],
   "source": []
  }
 ],
 "metadata": {
  "kernelspec": {
   "display_name": "Python 3 (ipykernel)",
   "language": "python",
   "name": "python3"
  },
  "language_info": {
   "codemirror_mode": {
    "name": "ipython",
    "version": 3
   },
   "file_extension": ".py",
   "mimetype": "text/x-python",
   "name": "python",
   "nbconvert_exporter": "python",
   "pygments_lexer": "ipython3",
   "version": "3.9.18"
  }
 },
 "nbformat": 4,
 "nbformat_minor": 5
}
