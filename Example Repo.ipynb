{
 "cells": [
  {
   "cell_type": "code",
   "execution_count": 1,
   "id": "bed5fe3e-5ae7-4919-8cda-9d4375ac801f",
   "metadata": {},
   "outputs": [],
   "source": [
    "from OpenSourceAnalyzer import GitHubRepositoryAnalyzer"
   ]
  },
  {
   "cell_type": "code",
   "execution_count": 4,
   "id": "82b5c6cd-3a85-486d-b592-d89d2f40bec4",
   "metadata": {},
   "outputs": [
    {
     "name": "stdout",
     "output_type": "stream",
     "text": [
      "Результаты анализа репозитория:\n",
      "{'Basic Info Present': 3, 'License Present': 1, 'Not Brand New': 1, 'Stars': 3, 'Contributors': 1, 'Subscribers': 0, 'Readme Present': 1, 'Has Multiple Versions': 1, 'Has 1.0.0 Version or Greater': 0, 'Recent Release Last Six Months': 1, 'Recently Pushed Last Six Months': 1, 'Test Folder': 1, 'Tutorials Folder': 1, 'Community Score': 3}\n",
      "Общий счёт: 18\n",
      "Счёт SourceRank: 13\n"
     ]
    }
   ],
   "source": [
    "analyzer = GitHubRepositoryAnalyzer(\"aimclub\", \"fedot\")\n",
    "\n",
    "# Вызываем метод analyze_repository для получения результатов анализа\n",
    "results, total_score, total_score_sourcerank = analyzer.analyze_repository()\n",
    "\n",
    "# Далее вы можете использовать полученные результаты как вам необходимо\n",
    "print(\"Результаты анализа репозитория:\")\n",
    "print(results)\n",
    "print(\"Общий счёт:\", total_score)\n",
    "print(\"Счёт SourceRank:\", total_score_sourcerank)"
   ]
  },
  {
   "cell_type": "code",
   "execution_count": null,
   "id": "841296ec-ab75-49a8-a821-4fdc09b87b4c",
   "metadata": {},
   "outputs": [],
   "source": []
  }
 ],
 "metadata": {
  "kernelspec": {
   "display_name": "Python 3 (ipykernel)",
   "language": "python",
   "name": "python3"
  },
  "language_info": {
   "codemirror_mode": {
    "name": "ipython",
    "version": 3
   },
   "file_extension": ".py",
   "mimetype": "text/x-python",
   "name": "python",
   "nbconvert_exporter": "python",
   "pygments_lexer": "ipython3",
   "version": "3.9.18"
  }
 },
 "nbformat": 4,
 "nbformat_minor": 5
}
