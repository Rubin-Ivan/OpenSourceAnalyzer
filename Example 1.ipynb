{
 "cells": [
  {
   "cell_type": "code",
   "execution_count": 1,
   "id": "8a6cebc8",
   "metadata": {},
   "outputs": [],
   "source": [
    "from GitHubRepositoryAnalyzer import GitHubRepositoryAnalyzer"
   ]
  },
  {
   "cell_type": "code",
   "execution_count": 3,
   "id": "311fb14b",
   "metadata": {},
   "outputs": [
    {
     "name": "stdout",
     "output_type": "stream",
     "text": [
      "Количество файлов py: 440\n",
      "Количество строк в файлах py: 46038\n",
      "Количество contributors: 30\n",
      "Количество contributions: 876\n",
      "дата создания: 2020-01-13 12:48:37\n",
      "Последний коммит: 2024-07-04 12:48:08\n",
      "Результаты анализа репозитория:\n",
      "{'Basic Info Present': 3, 'License Present': 1, 'Not Brand New': 1, 'Stars': 3, 'Contributors': 1, 'Readme Present': 1, 'Has Multiple Versions': 1, 'Has 1.0.0 Version or Greater': 0, 'Recent Release Last Six Months': 1, 'Recently Pushed Last Six Months': 1, 'Test Folder': 1, 'Tutorials Folder': 1, 'Community Score': 3}\n",
      "Общий счёт: 18\n"
     ]
    }
   ],
   "source": [
    "owner='aimclub'\n",
    "repo_name='fedot'\n",
    "analyzer = GitHubRepositoryAnalyzer(owner, repo_name)\n",
    "\n",
    "results, total_score, total_score_sourcerank, py_files_count, total_lines_count, num_contributors , total_contributions, created_date, last_pushed_date = analyzer.analyze_repository()\n",
    "\n",
    "print(\"Количество файлов py:\", py_files_count)\n",
    "print(\"Количество строк в файлах py:\", total_lines_count)\n",
    "\n",
    "print(\"Количество contributors:\", num_contributors)\n",
    "print(\"Количество contributions:\", total_contributions)\n",
    "\n",
    "print(\"дата создания:\", created_date)\n",
    "print(\"Последний коммит:\", last_pushed_date)\n",
    "\n",
    "print(\"Результаты анализа репозитория:\")\n",
    "print(results)\n",
    "print(\"Общий счёт:\", total_score)\n"
   ]
  },
  {
   "cell_type": "code",
   "execution_count": null,
   "id": "162a5891",
   "metadata": {},
   "outputs": [],
   "source": []
  }
 ],
 "metadata": {
  "kernelspec": {
   "display_name": "Python 3 (ipykernel)",
   "language": "python",
   "name": "python3"
  },
  "language_info": {
   "codemirror_mode": {
    "name": "ipython",
    "version": 3
   },
   "file_extension": ".py",
   "mimetype": "text/x-python",
   "name": "python",
   "nbconvert_exporter": "python",
   "pygments_lexer": "ipython3",
   "version": "3.9.17"
  }
 },
 "nbformat": 4,
 "nbformat_minor": 5
}
